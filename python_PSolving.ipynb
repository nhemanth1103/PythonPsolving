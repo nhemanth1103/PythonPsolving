{
  "nbformat": 4,
  "nbformat_minor": 0,
  "metadata": {
    "colab": {
      "provenance": [],
      "authorship_tag": "ABX9TyMEvMdwoWVxBEr0iaz4u2eR",
      "include_colab_link": true
    },
    "kernelspec": {
      "name": "python3",
      "display_name": "Python 3"
    },
    "language_info": {
      "name": "python"
    }
  },
  "cells": [
    {
      "cell_type": "markdown",
      "metadata": {
        "id": "view-in-github",
        "colab_type": "text"
      },
      "source": [
        "<a href=\"https://colab.research.google.com/github/nhemanth1103/PythonPsolving/blob/main/python_PSolving.ipynb\" target=\"_parent\"><img src=\"https://colab.research.google.com/assets/colab-badge.svg\" alt=\"Open In Colab\"/></a>"
      ]
    },
    {
      "cell_type": "markdown",
      "source": [
        "**Problem1:**Given an integer, , perform the following conditional actions:\n",
        "\n",
        "If  n is odd, print Weird\n",
        "\n",
        "* If  n is even and in the inclusive range of 2 to 5, print Not Weird  \n",
        "*   If  n is even and in the inclusive range of 6 to 20, print Not Weird\n",
        "\n",
        "*   If  n is even and greater than 20, print Not Weird\n",
        "\n",
        "\n",
        "\n"
      ],
      "metadata": {
        "id": "1Hdbzu-YfYTO"
      }
    },
    {
      "cell_type": "code",
      "execution_count": null,
      "metadata": {
        "colab": {
          "base_uri": "https://localhost:8080/"
        },
        "id": "-Xu2_FIcRR3A",
        "outputId": "312a94e9-99dd-4b1c-cc2e-c3e81fca7fdf"
      },
      "outputs": [
        {
          "output_type": "stream",
          "name": "stdout",
          "text": [
            "3\n",
            "Weird\n"
          ]
        }
      ],
      "source": [
        "if __name__ == '__main__':\n",
        "    n = int(input().strip())\n",
        "\n",
        "    if n % 2 != 0:\n",
        "        print('Weird')\n",
        "    elif n % 2 == 0 and (2 < n < 5):\n",
        "        print('Not Weird')\n",
        "    elif n % 2 == 0 and (6 < n < 20):\n",
        "        print('Weird')\n",
        "    elif n % 2 == 0 and n > 20:\n",
        "        print('Not Weird')\n"
      ]
    },
    {
      "cell_type": "markdown",
      "source": [
        "\n",
        "**My Learnings:**iF elif problem ,\n",
        "There is a difference between operation (and) is not same as (&),\n",
        "'and' (logical operator) used in logical comparison ,&(bitwise operator) used in integers.MAin difference is 'and' stop evaluating once it determined where '&'operands are always evaluated\n",
        "\n"
      ],
      "metadata": {
        "id": "wX4RHmKOezrM"
      }
    },
    {
      "cell_type": "markdown",
      "source": [
        "**problem2**:The first line contains the sum of the two numbers.\n",
        "The second line contains the difference of the two numbers (first - second).\n",
        "The third line contains the product of the two numbers.\n",
        "\n"
      ],
      "metadata": {
        "id": "r64nUgE81VGj"
      }
    },
    {
      "cell_type": "code",
      "source": [
        "a = int(input())\n",
        "b = int(input())\n",
        "print(a+b)\n",
        "print(a-b)\n",
        "print(a*b)"
      ],
      "metadata": {
        "colab": {
          "base_uri": "https://localhost:8080/"
        },
        "id": "kEdEUBP-etyO",
        "outputId": "01341102-0429-429c-f8c2-0802bb23c87c"
      },
      "execution_count": null,
      "outputs": [
        {
          "output_type": "stream",
          "name": "stdout",
          "text": [
            "3\n",
            "5\n",
            "8\n",
            "-2\n",
            "15\n"
          ]
        }
      ]
    },
    {
      "cell_type": "markdown",
      "source": [
        "**Problem3**:The provided code stub reads and integer,n , from STDIN. For all non-negative integers i<n, print i*i."
      ],
      "metadata": {
        "id": "0edJaGQD1w0N"
      }
    },
    {
      "cell_type": "code",
      "source": [
        "n=int(input())\n",
        "\n",
        "for i in range(n):\n",
        "  print(i*i)"
      ],
      "metadata": {
        "id": "6YsYmdQEep4y",
        "colab": {
          "base_uri": "https://localhost:8080/"
        },
        "outputId": "ae25aa2f-8b85-446f-fe66-136fbb11dff5"
      },
      "execution_count": null,
      "outputs": [
        {
          "output_type": "stream",
          "name": "stdout",
          "text": [
            "3\n",
            "0\n",
            "1\n",
            "4\n"
          ]
        }
      ]
    },
    {
      "cell_type": "markdown",
      "source": [
        "**problem 4**:An extra day is added to the calendar almost every four years as February 29, and the day is called a leap day. It corrects the calendar for the fact that our planet takes approximately 365.25 days to orbit the sun. A leap year contains a leap day."
      ],
      "metadata": {
        "id": "Y1cVk2CT8Vjv"
      }
    },
    {
      "cell_type": "code",
      "source": [
        "year = int(input())\n",
        "\n",
        "if (year % 4 == 0 and (year % 100 != 0 or year % 400 == 0)):\n",
        "    print(True)\n",
        "else:\n",
        "    print(False)\n"
      ],
      "metadata": {
        "colab": {
          "base_uri": "https://localhost:8080/"
        },
        "id": "KxqDMjTI2La_",
        "outputId": "0a8a015e-b69b-4af5-dc08-415db33e98e2"
      },
      "execution_count": null,
      "outputs": [
        {
          "output_type": "stream",
          "name": "stdout",
          "text": [
            "2024\n",
            "True\n"
          ]
        }
      ]
    },
    {
      "cell_type": "markdown",
      "source": [
        "**problem 6:**Without using any string methods, try to print the following:123......n.\n",
        "\n",
        "Note that \"...\" represents the consecutive values in between.\n",
        "\n",
        "\n",
        "Example:\n",
        "n=5\n",
        "Print the string 12345."
      ],
      "metadata": {
        "id": "E9gnsUraLAhh"
      }
    },
    {
      "cell_type": "code",
      "source": [
        "if __name__ == '__main__':\n",
        "    n = int(input())\n",
        "    for i in range(1,n+1):\n",
        "        print(i,end=\"\")"
      ],
      "metadata": {
        "colab": {
          "base_uri": "https://localhost:8080/"
        },
        "id": "fPAeDy2yHW4k",
        "outputId": "b071a9d7-c6ba-46e0-f957-5c78a2aaf7f8"
      },
      "execution_count": null,
      "outputs": [
        {
          "output_type": "stream",
          "name": "stdout",
          "text": [
            "5\n",
            "12345"
          ]
        }
      ]
    },
    {
      "cell_type": "markdown",
      "source": [
        "**Problem7:**You are given three integers  and  representing the dimensions of a cuboid along with an integer . Print a list of all possible coordinates given by i,j,k  on a 3D grid where the sum of  is not equal to . Here,0<=i<=x,0<=i<=y,0<=i<=z. Please use list comprehensions rather than multiple loops, as a learning exercise."
      ],
      "metadata": {
        "id": "SoCjAfB9p2LF"
      }
    },
    {
      "cell_type": "code",
      "source": [
        "x = int(input())\n",
        "y = int(input())\n",
        "z = int(input())\n",
        "n = int(input())\n",
        "\n",
        "combinations=[[i,j,k]for i in range(0,x+1)for j in range(0,y+1)for k in range(0,z+1)if i+j+k!=n]\n",
        "print(combinations)"
      ],
      "metadata": {
        "colab": {
          "base_uri": "https://localhost:8080/"
        },
        "id": "f0YOj2Rjbayq",
        "outputId": "efbf8ae0-8bb5-493f-b149-c53c359748ec"
      },
      "execution_count": null,
      "outputs": [
        {
          "output_type": "stream",
          "name": "stdout",
          "text": [
            "1\n",
            "1\n",
            "2\n",
            "3\n",
            "[[0, 0, 0], [0, 0, 1], [0, 0, 2], [0, 1, 0], [0, 1, 1], [0, 1, 2], [1, 0, 0], [1, 0, 1], [1, 0, 2], [1, 1, 0], [1, 1, 1], [1, 1, 2]]\n"
          ]
        }
      ]
    },
    {
      "cell_type": "markdown",
      "source": [
        "**Problem:8** Given list is[2 3 6 6 5] . The maximum score is 6, second maximum is 5. Hence, we print  as the runner-up score."
      ],
      "metadata": {
        "id": "ullq158VEqqc"
      }
    },
    {
      "cell_type": "code",
      "source": [
        "#find runner up score\n",
        "n=int(input())\n",
        "arr=list(map(int,input().split()))\n",
        "#Deleting duplicates in a list\n",
        "arr=list(set(arr))\n",
        "#sorting the list in ascending order\n",
        "arr.sort()\n",
        "#accessing last but one element in a list\n",
        "print(arr[-2])"
      ],
      "metadata": {
        "colab": {
          "base_uri": "https://localhost:8080/"
        },
        "id": "4o4UUjceEmmz",
        "outputId": "1ffd0256-63e2-4dc8-a7c6-16311342595a"
      },
      "execution_count": null,
      "outputs": [
        {
          "output_type": "stream",
          "name": "stdout",
          "text": [
            "3\n",
            "1  2 3\n",
            "2\n"
          ]
        }
      ]
    },
    {
      "cell_type": "markdown",
      "source": [
        "**My new learnings**:'Map'function applies the int function to each element in the list produced by input().split()."
      ],
      "metadata": {
        "id": "f14l0tV8hhKY"
      }
    },
    {
      "cell_type": "markdown",
      "source": [
        "**problem 9**:Given the names and grades for each student in a class of 'N' students, store them in a nested list and print the name(s) of any student(s) having the second lowest grade.\n",
        "\n",
        "Note: If there are multiple students with the second lowest grade, order their names alphabetically and print each name on a new line."
      ],
      "metadata": {
        "id": "8eWvcMXKi04g"
      }
    },
    {
      "cell_type": "code",
      "source": [
        "if __name__ == '__main__':\n",
        "    students = []\n",
        "#  Initialize an empty list to store student datastudents = []\n",
        "\n",
        "#  Input the number of students\n",
        "n = int(input())\n",
        "\n",
        "#  Collect name and grade for each student\n",
        "for _ in range(n):\n",
        "    # Each student's name\n",
        "    name = input()\n",
        "    # Each student's score\n",
        "    score = float(input())\n",
        "    students.append([name, score])\n",
        "\n",
        "# Extract all grades and find unique, sorted grades\n",
        "grades = [student[1] for student in students]\n",
        "unique_grades = sorted(set(grades))\n",
        "\n",
        "# Get the second lowest grade\n",
        "second_lowest_grade = unique_grades[1]\n",
        "\n",
        "#  Find students with the second lowest grade\n",
        "second_lowest_students = [student[0] for student in students if student[1] == second_lowest_grade]\n",
        "\n",
        "# Sort names alphabetically\n",
        "second_lowest_students.sort()\n",
        "\n",
        "# Print each name on a new line\n",
        "for name in second_lowest_students:\n",
        "    print(name)\n"
      ],
      "metadata": {
        "colab": {
          "base_uri": "https://localhost:8080/"
        },
        "id": "iPiBavLqPal_",
        "outputId": "2d97f2ae-4715-4380-c1b4-b84b08f8b718"
      },
      "execution_count": null,
      "outputs": [
        {
          "output_type": "stream",
          "name": "stdout",
          "text": [
            "3\n",
            "hem\n",
            "37\n",
            "ram\n",
            "40\n",
            "sai\n",
            "28\n",
            "hem\n"
          ]
        }
      ]
    },
    {
      "cell_type": "markdown",
      "source": [
        "**Problem10**:Print the average of the marks array for the student name provided, showing 2 places after the decimal."
      ],
      "metadata": {
        "id": "kqxH2l07xM4u"
      }
    },
    {
      "cell_type": "code",
      "source": [
        "if __name__ == '__main__':\n",
        "    n = int(input())\n",
        "    student_marks = {}\n",
        "\n",
        "    # Read student records\n",
        "    for _ in range(n):\n",
        "        name, *line = input().split()\n",
        "        scores = list(map(float, line))\n",
        "        student_marks[name] = scores\n",
        "\n",
        "    # Read query name\n",
        "    query_name = input()\n",
        "\n",
        "    # Calculate and print average for query_name\n",
        "    if query_name in student_marks:\n",
        "        marks = student_marks[query_name]\n",
        "        average = sum(marks) / len(marks)\n",
        "        print(f\"{average:.2f}\")"
      ],
      "metadata": {
        "colab": {
          "base_uri": "https://localhost:8080/"
        },
        "id": "0MFzUniwxJzl",
        "outputId": "4122237a-6d9d-4500-8054-9c8a6b36ca13"
      },
      "execution_count": 1,
      "outputs": [
        {
          "output_type": "stream",
          "name": "stdout",
          "text": [
            "3\n",
            "ram 30 40 38\n",
            "jai 45 89 34\n",
            "sai  32 89 54\n",
            "sai\n",
            "58.33\n"
          ]
        }
      ]
    }
  ]
}