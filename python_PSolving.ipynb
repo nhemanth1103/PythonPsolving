{
  "nbformat": 4,
  "nbformat_minor": 0,
  "metadata": {
    "colab": {
      "provenance": [],
      "authorship_tag": "ABX9TyPmLcktcX0EYt2MTSP+eODY",
      "include_colab_link": true
    },
    "kernelspec": {
      "name": "python3",
      "display_name": "Python 3"
    },
    "language_info": {
      "name": "python"
    }
  },
  "cells": [
    {
      "cell_type": "markdown",
      "metadata": {
        "id": "view-in-github",
        "colab_type": "text"
      },
      "source": [
        "<a href=\"https://colab.research.google.com/github/nhemanth1103/PythonPsolving/blob/main/python_PSolving.ipynb\" target=\"_parent\"><img src=\"https://colab.research.google.com/assets/colab-badge.svg\" alt=\"Open In Colab\"/></a>"
      ]
    },
    {
      "cell_type": "markdown",
      "source": [
        "**Problem1:**Given an integer, , perform the following conditional actions:\n",
        "\n",
        "If  n is odd, print Weird\n",
        "\n",
        "* If  n is even and in the inclusive range of 2 to 5, print Not Weird  \n",
        "*   If  n is even and in the inclusive range of 6 to 20, print Not Weird\n",
        "\n",
        "*   If  n is even and greater than 20, print Not Weird\n",
        "\n",
        "\n",
        "\n"
      ],
      "metadata": {
        "id": "1Hdbzu-YfYTO"
      }
    },
    {
      "cell_type": "code",
      "execution_count": null,
      "metadata": {
        "colab": {
          "base_uri": "https://localhost:8080/"
        },
        "id": "-Xu2_FIcRR3A",
        "outputId": "312a94e9-99dd-4b1c-cc2e-c3e81fca7fdf"
      },
      "outputs": [
        {
          "output_type": "stream",
          "name": "stdout",
          "text": [
            "3\n",
            "Weird\n"
          ]
        }
      ],
      "source": [
        "if __name__ == '__main__':\n",
        "    n = int(input().strip())\n",
        "\n",
        "    if n % 2 != 0:\n",
        "        print('Weird')\n",
        "    elif n % 2 == 0 and (2 < n < 5):\n",
        "        print('Not Weird')\n",
        "    elif n % 2 == 0 and (6 < n < 20):\n",
        "        print('Weird')\n",
        "    elif n % 2 == 0 and n > 20:\n",
        "        print('Not Weird')\n"
      ]
    },
    {
      "cell_type": "markdown",
      "source": [
        "\n",
        "**My Learnings:**iF elif problem ,\n",
        "There is a difference between operation (and) is not same as (&),\n",
        "'and' (logical operator) used in logical comparison ,&(bitwise operator) used in integers.MAin difference is 'and' stop evaluating once it determined where '&'operands are always evaluated\n",
        "\n"
      ],
      "metadata": {
        "id": "wX4RHmKOezrM"
      }
    },
    {
      "cell_type": "markdown",
      "source": [
        "**problem2**:The first line contains the sum of the two numbers.\n",
        "The second line contains the difference of the two numbers (first - second).\n",
        "The third line contains the product of the two numbers.\n",
        "\n"
      ],
      "metadata": {
        "id": "r64nUgE81VGj"
      }
    },
    {
      "cell_type": "code",
      "source": [
        "a = int(input())\n",
        "b = int(input())\n",
        "print(a+b)\n",
        "print(a-b)\n",
        "print(a*b)"
      ],
      "metadata": {
        "colab": {
          "base_uri": "https://localhost:8080/"
        },
        "id": "kEdEUBP-etyO",
        "outputId": "01341102-0429-429c-f8c2-0802bb23c87c"
      },
      "execution_count": null,
      "outputs": [
        {
          "output_type": "stream",
          "name": "stdout",
          "text": [
            "3\n",
            "5\n",
            "8\n",
            "-2\n",
            "15\n"
          ]
        }
      ]
    },
    {
      "cell_type": "markdown",
      "source": [
        "**Problem3**:The provided code stub reads and integer,n , from STDIN. For all non-negative integers i<n, print i*i."
      ],
      "metadata": {
        "id": "0edJaGQD1w0N"
      }
    },
    {
      "cell_type": "code",
      "source": [
        "n=int(input())\n",
        "\n",
        "for i in range(n):\n",
        "  print(i*i)"
      ],
      "metadata": {
        "id": "6YsYmdQEep4y",
        "colab": {
          "base_uri": "https://localhost:8080/"
        },
        "outputId": "ae25aa2f-8b85-446f-fe66-136fbb11dff5"
      },
      "execution_count": null,
      "outputs": [
        {
          "output_type": "stream",
          "name": "stdout",
          "text": [
            "3\n",
            "0\n",
            "1\n",
            "4\n"
          ]
        }
      ]
    },
    {
      "cell_type": "markdown",
      "source": [
        "**Problem 4:**Convert bold texta decimal to a hex bold text\n",
        "For this challenge, you need to write a function in Python that accepts a string of ASCII characters. It should return each character’s value as a hexadecimal string. Separate each byte by a space, and return all alpha hexadecimal characters as lowercase."
      ],
      "metadata": {
        "id": "jbcLdf_dyJqY"
      }
    },
    {
      "cell_type": "code",
      "source": [
        "def ascii_to_hex(ascii_str):\n",
        "    # Convert each character to its hexadecimal representation\n",
        "    hex_values = [format(ord(char), '02x') for char in ascii_str]\n",
        "\n",
        "    # Join the hexadecimal values with spaces\n",
        "    return ' '.join(hex_values)\n",
        "# Example usage:\n",
        "ascii_str = \"Hello!\"\n",
        "hex_result = ascii_to_hex(ascii_str)\n",
        "print(f\"Hexadecimal representation: {hex_result}\")"
      ],
      "metadata": {
        "id": "ubq-Xqop0wBF"
      },
      "execution_count": null,
      "outputs": []
    },
    {
      "cell_type": "markdown",
      "source": [
        "**problem 5**:An extra day is added to the calendar almost every four years as February 29, and the day is called a leap day. It corrects the calendar for the fact that our planet takes approximately 365.25 days to orbit the sun. A leap year contains a leap day."
      ],
      "metadata": {
        "id": "Y1cVk2CT8Vjv"
      }
    },
    {
      "cell_type": "code",
      "source": [
        "year = int(input())\n",
        "\n",
        "if (year % 4 == 0 and (year % 100 != 0 or year % 400 == 0)):\n",
        "    print(True)\n",
        "else:\n",
        "    print(False)\n"
      ],
      "metadata": {
        "colab": {
          "base_uri": "https://localhost:8080/"
        },
        "id": "KxqDMjTI2La_",
        "outputId": "0a8a015e-b69b-4af5-dc08-415db33e98e2"
      },
      "execution_count": null,
      "outputs": [
        {
          "output_type": "stream",
          "name": "stdout",
          "text": [
            "2024\n",
            "True\n"
          ]
        }
      ]
    },
    {
      "cell_type": "markdown",
      "source": [],
      "metadata": {
        "id": "E9gnsUraLAhh"
      }
    },
    {
      "cell_type": "code",
      "source": [],
      "metadata": {
        "id": "B_UMbBdxLCAE"
      },
      "execution_count": null,
      "outputs": []
    }
  ]
}